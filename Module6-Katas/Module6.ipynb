{
 "cells": [
  {
   "cell_type": "markdown",
   "id": "2b836d3a",
   "metadata": {},
   "source": [
    "### Create a function named sumLargestNumbers that will receive a list of numbers and return the sum of the two largest numbers in that array."
   ]
  },
  {
   "cell_type": "code",
   "execution_count": 1,
   "id": "f5e66e7d",
   "metadata": {},
   "outputs": [
    {
     "name": "stdout",
     "output_type": "stream",
     "text": [
      "11\n",
      "5\n",
      "126\n"
     ]
    }
   ],
   "source": [
    "import heapq as hq\n",
    "\n",
    "def sumLargestNumbers(nums):\n",
    "    \n",
    "    if len(nums) < 2:\n",
    "        raise ValueError(\"Length of provided list is less than 2.\")\n",
    "    \n",
    "    max_lst = hq.nlargest(2, nums)\n",
    "    return max_lst[0] + max_lst[1]\n",
    "\n",
    "print(sumLargestNumbers([1, 10]))\n",
    "print(sumLargestNumbers([1, 2, 3]))\n",
    "print(sumLargestNumbers([10, 4, 34, 6, 92, 2]))"
   ]
  },
  {
   "cell_type": "markdown",
   "id": "bd8c5784",
   "metadata": {},
   "source": [
    "### Create a function named conditionalSum that will be given a list of numbers and a condition, in this case odd or even. Given this condition, add up only the values which match that condition. If no values match the condition, return 0."
   ]
  },
  {
   "cell_type": "code",
   "execution_count": 2,
   "id": "1fbbbd5e",
   "metadata": {},
   "outputs": [
    {
     "name": "stdout",
     "output_type": "stream",
     "text": [
      "6\n",
      "9\n",
      "144\n",
      "0\n"
     ]
    }
   ],
   "source": [
    "def conditionalSum(values, condition):\n",
    "    \n",
    "    sum_values = 0\n",
    "    remainder = 0\n",
    "    \n",
    "    if condition.lower() == 'even':\n",
    "        pass\n",
    "    elif condition.lower() == 'odd':\n",
    "        remainder = 1\n",
    "    else:\n",
    "        raise ValueError(\"Condition provided must be 'even' or 'odd'\")\n",
    "            \n",
    "    sum_values = sum(value for value in values if value % 2 == remainder)      \n",
    "    return sum_values\n",
    "\n",
    "\n",
    "print(conditionalSum([1, 2, 3, 4, 5], \"even\"))\n",
    "print(conditionalSum([1, 2, 3, 4, 5], \"odd\"))\n",
    "print(conditionalSum([13, 88, 12, 44, 99], \"even\"))\n",
    "print(conditionalSum([], \"odd\"))"
   ]
  },
  {
   "cell_type": "markdown",
   "id": "1a0807cb",
   "metadata": {},
   "source": [
    "### Create a function named numberOfVowels that will receive a string and return the number of vowels in that string."
   ]
  },
  {
   "cell_type": "code",
   "execution_count": 3,
   "id": "c130609f",
   "metadata": {},
   "outputs": [
    {
     "name": "stdout",
     "output_type": "stream",
     "text": [
      "3\n",
      "5\n",
      "5\n"
     ]
    }
   ],
   "source": [
    "def numberOfVowels(data):\n",
    "    \n",
    "    num_vowels = 0\n",
    "    vowels = {'a','e','i','o','u'}\n",
    "    \n",
    "    for letter in data.lower():\n",
    "        if letter in vowels:\n",
    "            num_vowels += 1\n",
    "    \n",
    "    return num_vowels\n",
    "\n",
    "print(numberOfVowels(\"orange\"))\n",
    "print(numberOfVowels(\"lighthouse labs\"))\n",
    "print(numberOfVowels(\"aeiou\"))"
   ]
  },
  {
   "cell_type": "markdown",
   "id": "723ea3ea",
   "metadata": {},
   "source": [
    "### Create a function named instructorWithLongestName that will receive a list of instructor dictionaries, and return the object that has the longest name."
   ]
  },
  {
   "cell_type": "code",
   "execution_count": 4,
   "id": "1da89160",
   "metadata": {},
   "outputs": [
    {
     "name": "stdout",
     "output_type": "stream",
     "text": [
      "{'name': 'Jeremiah', 'course': 'Data'}\n",
      "{'name': 'Domascus', 'course': 'Web'}\n"
     ]
    }
   ],
   "source": [
    "def instructorWithLongestName(instructors):\n",
    "    \n",
    "    l_name_len = 0\n",
    "    l_name= 0\n",
    "    \n",
    "    for instructor in instructors:\n",
    "        if len(instructor['name']) > l_name_len:\n",
    "            l_name_len = len(instructor['name'])\n",
    "            l_name = instructor\n",
    "    \n",
    "    return l_name\n",
    "            \n",
    "print(instructorWithLongestName([\n",
    "  {\"name\" : \"Samuel\", \"course\" : \"iOS\"},\n",
    "  {\"name\" : \"Jeremiah\", \"course\" : \"Data\"},\n",
    "  {\"name\" : \"Ophilia\", \"course\" : \"Web\"},\n",
    "  {\"name\" : \"Donald\", \"course\" : \"Web\"}\n",
    "]))\n",
    "print(instructorWithLongestName([\n",
    "  {\"name\" : \"Matthew\", \"course\" : \"Data\"},\n",
    "  {\"name\" : \"David\", \"course\" : \"iOS\"},\n",
    "  {\"name\" : \"Domascus\", \"course\" : \"Web\"}\n",
    "]))"
   ]
  },
  {
   "cell_type": "markdown",
   "id": "831bcc40",
   "metadata": {},
   "source": [
    "### Create a function named urlEncode that will receive a string of words, and return that string with all of the whitespace characters converted to %20. "
   ]
  },
  {
   "cell_type": "code",
   "execution_count": 5,
   "id": "5739d44f",
   "metadata": {},
   "outputs": [
    {
     "name": "stdout",
     "output_type": "stream",
     "text": [
      "Lighthouse%20Labs\n",
      "Lighthouse%20Labs\n",
      "blue%20is%20greener%20than%20purple%20for%20sure\n"
     ]
    }
   ],
   "source": [
    "def urlEncode(text):\n",
    "    \n",
    "    text = text.strip()\n",
    "    text = list(text)\n",
    "    \n",
    "    for char_idx in range(len(text)):\n",
    "        if text[char_idx] == ' ':\n",
    "            text[char_idx] = '%20'\n",
    "    \n",
    "    return ''.join(text)\n",
    "\n",
    "print(urlEncode(\"Lighthouse Labs\"))\n",
    "print(urlEncode(\" Lighthouse Labs  \"))\n",
    "print(urlEncode(\"blue is greener than purple for sure\"))"
   ]
  },
  {
   "cell_type": "markdown",
   "id": "c080c223",
   "metadata": {},
   "source": [
    "### Write a function called whereCanIPark() that returns the coordinates of an available parking spot for the vehicle, or returns false if there is no available spot."
   ]
  },
  {
   "cell_type": "code",
   "execution_count": 6,
   "id": "684318a3",
   "metadata": {},
   "outputs": [
    {
     "name": "stdout",
     "output_type": "stream",
     "text": [
      "[4, 0]\n",
      "False\n",
      "[3, 5]\n"
     ]
    }
   ],
   "source": [
    "def whereCanIPark(spots, vehicle):\n",
    "    \n",
    "    vehicle = vehicle.lower()\n",
    "    if vehicle == 'regular':\n",
    "        spot_types = ('R',)\n",
    "    elif vehicle == 'small':\n",
    "        spot_types = ('S','R')\n",
    "    elif vehicle == 'motorcycle':\n",
    "        spot_types = ('M','S','R')\n",
    "    else:\n",
    "        raise ValueError(\"Vehicle types that can be provided are: Regular, Small, Motorcycle\")\n",
    "        \n",
    "    for spot_type in spot_types:  # Prioritize spots that most closely match the vehicle type\n",
    "        for row in range(len(spots)):\n",
    "            for column in range(len(spots[row])):\n",
    "                if spots[row][column] == spot_type:\n",
    "                    return [column, row]\n",
    "    \n",
    "    return False\n",
    "            \n",
    "        \n",
    "print(whereCanIPark(\n",
    "  [\n",
    "    # COLUMNS ARE X\n",
    "    # 0    1    2    3    4    5\n",
    "    ['s', 's', 's', 'S', 'R', 'M'], # 0 ROWS ARE Y\n",
    "    ['s', 'M', 's', 'S', 'r', 'M'], # 1\n",
    "    ['s', 'M', 's', 'S', 'r', 'm'], # 2\n",
    "    ['S', 'r', 's', 'm', 'r', 'M'], # 3\n",
    "    ['S', 'r', 's', 'm', 'r', 'M'], # 4\n",
    "    ['S', 'r', 'S', 'M', 'M', 'S']  # 5\n",
    "  ],\n",
    "  'regular'\n",
    "))\n",
    "\n",
    "print(whereCanIPark(\n",
    "  [\n",
    "    ['M', 'M', 'M', 'M'],\n",
    "    ['M', 's', 'M', 'M'],\n",
    "    ['M', 'M', 'M', 'M'],\n",
    "    ['M', 'M', 'r', 'M']\n",
    "  ],\n",
    "  'small'\n",
    "))\n",
    "\n",
    "print(whereCanIPark(\n",
    "  [\n",
    "    ['s', 's', 's', 's', 's', 's'],\n",
    "    ['s', 'm', 's', 'S', 'r', 's'],\n",
    "    ['s', 'm', 's', 'S', 'r', 's'],\n",
    "    ['S', 'r', 's', 'm', 'r', 's'],\n",
    "    ['S', 'r', 's', 'm', 'R', 's'],\n",
    "    ['S', 'r', 'S', 'M', 'm', 'S']\n",
    "  ],\n",
    "  'motorcycle'\n",
    "))"
   ]
  },
  {
   "cell_type": "markdown",
   "id": "470ae116",
   "metadata": {},
   "source": [
    "### implement a function called checkAir(), which will check a collection of air samples. The function will take in two arguments. The first argument is a list of strings, where each string represents a small air sample that is either clean or dirty. The second argument is a number representing the highest acceptable amount of dirty samples."
   ]
  },
  {
   "cell_type": "code",
   "execution_count": 7,
   "id": "8f6dbbbd",
   "metadata": {},
   "outputs": [
    {
     "name": "stdout",
     "output_type": "stream",
     "text": [
      "Polluted\n",
      "Polluted\n",
      "Clean\n"
     ]
    }
   ],
   "source": [
    "def checkAir(samples, threshold):\n",
    "    \n",
    "    if len(samples) == 0:\n",
    "        raise ValueError('Empty list provided!')\n",
    "    \n",
    "    return 'Clean' if (samples.count('dirty') / len(samples)) < threshold else 'Polluted'\n",
    "\n",
    "\n",
    "print(checkAir(\n",
    "  ['clean', 'clean', 'dirty', 'clean', 'dirty', 'clean', 'clean', 'dirty', 'clean', 'dirty'],\n",
    "  0.3\n",
    "))\n",
    "\n",
    "print(checkAir(\n",
    "  ['dirty', 'dirty', 'dirty', 'dirty', 'clean'],\n",
    "  0.25\n",
    "))\n",
    "\n",
    "print(checkAir(\n",
    "  ['clean', 'dirty', 'clean', 'dirty', 'clean', 'dirty', 'clean'],\n",
    "  0.9\n",
    "))"
   ]
  },
  {
   "cell_type": "markdown",
   "id": "5849b575",
   "metadata": {},
   "source": [
    "### Create a function named repeatNumbers that will return a string with each of the given values repeated the appropriate number of times. If there are multiple sets of values each set should be separated by a comma. If there is only one set of values then you should omit the comma."
   ]
  },
  {
   "cell_type": "code",
   "execution_count": 8,
   "id": "4dce2e62",
   "metadata": {},
   "outputs": [
    {
     "name": "stdout",
     "output_type": "stream",
     "text": [
      "1111111111\n",
      "11, 222\n",
      "10101010, 343434343434, 9292\n"
     ]
    }
   ],
   "source": [
    "def repeatNumbers(data):\n",
    "    \n",
    "    if len(data) == 0:\n",
    "        raise ValueError('Empty list provided!')\n",
    "        \n",
    "    if not all(len(value_set) == 2 for value_set in data):\n",
    "        raise ValueError('All sub-lists must be equal to a length of 2.')\n",
    "    \n",
    "    numString = ''\n",
    "    \n",
    "    for value_set in range(len(data)- 1):\n",
    "        \n",
    "        numString += str(data[value_set][0]) * data[value_set][1] + ', '\n",
    "    \n",
    "    numString += str(data[-1][0]) * data[-1][1]\n",
    "    \n",
    "    return numString\n",
    "\n",
    "\n",
    "print(repeatNumbers([[1, 10]]))\n",
    "print(repeatNumbers([[1, 2], [2, 3]]))\n",
    "print(repeatNumbers([[10, 4], [34, 6], [92, 2]]))"
   ]
  },
  {
   "cell_type": "markdown",
   "id": "c0247580",
   "metadata": {},
   "source": [
    "### Create a function named camelCase that will convert a string to a camel case, and return the result."
   ]
  },
  {
   "cell_type": "code",
   "execution_count": 9,
   "id": "b3f8f75b",
   "metadata": {},
   "outputs": [
    {
     "name": "stdout",
     "output_type": "stream",
     "text": [
      "thisIsAString\n",
      "loopyLighthouse\n",
      "supercalifragalisticexpialidocious\n"
     ]
    }
   ],
   "source": [
    "def camelCase(user_input):\n",
    "    \n",
    "    user_input = user_input[0] + user_input.title()[1:]\n",
    "    user_input = user_input.replace(' ','')\n",
    "\n",
    "    return user_input\n",
    "\n",
    "\n",
    "print(camelCase(\"this is a string\"))\n",
    "print(camelCase(\"loopy lighthouse\"))\n",
    "print(camelCase(\"supercalifragalisticexpialidocious\"))"
   ]
  },
  {
   "cell_type": "markdown",
   "id": "ca281cae",
   "metadata": {},
   "source": [
    "### Create a function named multiplicationTable that receives a number maxValue as input and creates a square multiplication table where maxValue is the largest value in the table."
   ]
  },
  {
   "cell_type": "code",
   "execution_count": 10,
   "id": "d17541b5",
   "metadata": {},
   "outputs": [
    {
     "name": "stdout",
     "output_type": "stream",
     "text": [
      "1\n",
      "\n",
      "1 2 3 4 5\n",
      "2 4 6 8 10\n",
      "3 6 9 12 15\n",
      "4 8 12 16 20\n",
      "5 10 15 20 25\n",
      "\n",
      "1 2 3 4 5 6 7 8 9 10\n",
      "2 4 6 8 10 12 14 16 18 20\n",
      "3 6 9 12 15 18 21 24 27 30\n",
      "4 8 12 16 20 24 28 32 36 40\n",
      "5 10 15 20 25 30 35 40 45 50\n",
      "6 12 18 24 30 36 42 48 54 60\n",
      "7 14 21 28 35 42 49 56 63 70\n",
      "8 16 24 32 40 48 56 64 72 80\n",
      "9 18 27 36 45 54 63 72 81 90\n",
      "10 20 30 40 50 60 70 80 90 100\n",
      "\n"
     ]
    }
   ],
   "source": [
    "def multiplicationTable(maxValue):\n",
    "    \n",
    "    table = ''\n",
    "    \n",
    "    for row in range(1, maxValue + 1):\n",
    "        \n",
    "        for column in range(1, maxValue + 1):\n",
    "            \n",
    "            table += str(row * column) + ' '\n",
    "        \n",
    "        table = table.rstrip()\n",
    "        table += '\\n'\n",
    "        \n",
    "        \n",
    "    return table\n",
    "\n",
    "\n",
    "print(multiplicationTable(1))\n",
    "print(multiplicationTable(5))\n",
    "print(multiplicationTable(10))"
   ]
  }
 ],
 "metadata": {
  "kernelspec": {
   "display_name": "DataSci",
   "language": "python",
   "name": "datasci"
  },
  "language_info": {
   "codemirror_mode": {
    "name": "ipython",
    "version": 3
   },
   "file_extension": ".py",
   "mimetype": "text/x-python",
   "name": "python",
   "nbconvert_exporter": "python",
   "pygments_lexer": "ipython3",
   "version": "3.9.2"
  }
 },
 "nbformat": 4,
 "nbformat_minor": 5
}
