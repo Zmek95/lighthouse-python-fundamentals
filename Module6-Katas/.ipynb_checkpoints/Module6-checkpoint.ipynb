{
 "cells": [
  {
   "cell_type": "markdown",
   "id": "11c85c10",
   "metadata": {},
   "source": [
    "### Create a function named sumLargestNumbers that will receive a list of numbers and return the sum of the two largest numbers in that array."
   ]
  },
  {
   "cell_type": "code",
   "execution_count": 1,
   "id": "6f83a048",
   "metadata": {},
   "outputs": [
    {
     "name": "stdout",
     "output_type": "stream",
     "text": [
      "11\n",
      "5\n",
      "126\n"
     ]
    }
   ],
   "source": [
    "import heapq as hq\n",
    "\n",
    "def sumLargestNumbers(nums):\n",
    "    \n",
    "    if len(nums) < 2:\n",
    "        raise ValueError(\"Length of provided list is less than 2.\")\n",
    "    \n",
    "    max_lst = hq.nlargest(2, nums)\n",
    "    return max_lst[0] + max_lst[1]\n",
    "\n",
    "print(sumLargestNumbers([1, 10]))\n",
    "print(sumLargestNumbers([1, 2, 3]))\n",
    "print(sumLargestNumbers([10, 4, 34, 6, 92, 2]))"
   ]
  },
  {
   "cell_type": "markdown",
   "id": "38b7a8a0",
   "metadata": {},
   "source": [
    "### Create a function named conditionalSum that will be given a list of numbers and a condition, in this case odd or even. Given this condition, add up only the values which match that condition. If no values match the condition, return 0."
   ]
  },
  {
   "cell_type": "code",
   "execution_count": null,
   "id": "86ed5aa3",
   "metadata": {},
   "outputs": [],
   "source": []
  }
 ],
 "metadata": {
  "kernelspec": {
   "display_name": "DataSci",
   "language": "python",
   "name": "datasci"
  },
  "language_info": {
   "codemirror_mode": {
    "name": "ipython",
    "version": 3
   },
   "file_extension": ".py",
   "mimetype": "text/x-python",
   "name": "python",
   "nbconvert_exporter": "python",
   "pygments_lexer": "ipython3",
   "version": "3.9.2"
  }
 },
 "nbformat": 4,
 "nbformat_minor": 5
}
