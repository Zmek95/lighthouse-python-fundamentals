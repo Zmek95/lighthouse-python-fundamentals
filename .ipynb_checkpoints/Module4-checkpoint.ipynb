{
 "cells": [
  {
   "cell_type": "markdown",
   "id": "ab4f9d2d",
   "metadata": {},
   "source": [
    "## Variables"
   ]
  },
  {
   "cell_type": "code",
   "execution_count": 2,
   "id": "fc7a0bc8",
   "metadata": {},
   "outputs": [
    {
     "data": {
      "text/plain": [
       "140209415589072"
      ]
     },
     "execution_count": 2,
     "metadata": {},
     "output_type": "execute_result"
    }
   ],
   "source": [
    "m = 30\n",
    "n = 30\n",
    "\n",
    "id(m)"
   ]
  },
  {
   "cell_type": "code",
   "execution_count": 3,
   "id": "50e42a36",
   "metadata": {},
   "outputs": [
    {
     "data": {
      "text/plain": [
       "140209415589072"
      ]
     },
     "execution_count": 3,
     "metadata": {},
     "output_type": "execute_result"
    }
   ],
   "source": [
    "id(n)"
   ]
  },
  {
   "cell_type": "code",
   "execution_count": 4,
   "id": "b961ebfe",
   "metadata": {},
   "outputs": [
    {
     "data": {
      "text/plain": [
       "140209344578160"
      ]
     },
     "execution_count": 4,
     "metadata": {},
     "output_type": "execute_result"
    }
   ],
   "source": [
    "m = 500\n",
    "n = 500\n",
    "id(m)"
   ]
  },
  {
   "cell_type": "code",
   "execution_count": 5,
   "id": "f9c22595",
   "metadata": {},
   "outputs": [
    {
     "data": {
      "text/plain": [
       "140209344578032"
      ]
     },
     "execution_count": 5,
     "metadata": {},
     "output_type": "execute_result"
    }
   ],
   "source": [
    "id(n)"
   ]
  },
  {
   "cell_type": "code",
   "execution_count": 6,
   "id": "b1613fa4",
   "metadata": {},
   "outputs": [
    {
     "name": "stdout",
     "output_type": "stream",
     "text": [
      "\n",
      "Here is a list of the Python keywords.  Enter any keyword to get more help.\n",
      "\n",
      "False               break               for                 not\n",
      "None                class               from                or\n",
      "True                continue            global              pass\n",
      "__peg_parser__      def                 if                  raise\n",
      "and                 del                 import              return\n",
      "as                  elif                in                  try\n",
      "assert              else                is                  while\n",
      "async               except              lambda              with\n",
      "await               finally             nonlocal            yield\n",
      "\n"
     ]
    }
   ],
   "source": [
    "help(\"keywords\")"
   ]
  },
  {
   "cell_type": "markdown",
   "id": "a3061491",
   "metadata": {},
   "source": [
    "## Strings"
   ]
  },
  {
   "cell_type": "code",
   "execution_count": null,
   "id": "d6b14048",
   "metadata": {},
   "outputs": [],
   "source": []
  }
 ],
 "metadata": {
  "kernelspec": {
   "display_name": "DataSci",
   "language": "python",
   "name": "datasci"
  },
  "language_info": {
   "codemirror_mode": {
    "name": "ipython",
    "version": 3
   },
   "file_extension": ".py",
   "mimetype": "text/x-python",
   "name": "python",
   "nbconvert_exporter": "python",
   "pygments_lexer": "ipython3",
   "version": "3.9.2"
  }
 },
 "nbformat": 4,
 "nbformat_minor": 5
}
