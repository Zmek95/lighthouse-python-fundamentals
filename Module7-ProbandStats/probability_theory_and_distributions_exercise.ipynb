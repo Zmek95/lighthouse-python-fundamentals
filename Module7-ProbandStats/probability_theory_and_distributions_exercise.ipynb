{
 "cells": [
  {
   "cell_type": "code",
   "execution_count": 1,
   "metadata": {
    "ExecuteTime": {
     "end_time": "2020-02-05T17:54:42.062131Z",
     "start_time": "2020-02-05T17:54:41.626763Z"
    }
   },
   "outputs": [],
   "source": [
    "# import numpy\n",
    "import numpy as np\n",
    "\n",
    "# import matplotlib.pyplot\n",
    "import matplotlib.pyplot as plt\n",
    "\n",
    "# import Counter\n",
    "from collections import Counter\n",
    "\n",
    "# use style 'fivethirtyeight' (optional)\n",
    "plt.style.use('fivethirtyeight')"
   ]
  },
  {
   "cell_type": "markdown",
   "metadata": {
    "ExecuteTime": {
     "end_time": "2020-02-05T17:54:42.113199Z",
     "start_time": "2020-02-05T17:54:42.101587Z"
    }
   },
   "source": [
    "#### Create function `perform_bernouli_trial` with parameters n and p\n",
    "\n",
    "PARAMS:\n",
    "- n (int) - number of trials\n",
    "- p (float) - probability of success\n",
    "\n",
    "RETURNS:\n",
    "- n_success (int) - number of successes"
   ]
  },
  {
   "cell_type": "code",
   "execution_count": 2,
   "metadata": {},
   "outputs": [],
   "source": [
    "def perform_bernouli_trial(n, p):\n",
    "    return np.random.binomial(n,p)"
   ]
  },
  {
   "cell_type": "code",
   "execution_count": null,
   "metadata": {},
   "outputs": [],
   "source": []
  },
  {
   "cell_type": "markdown",
   "metadata": {
    "ExecuteTime": {
     "end_time": "2020-02-05T17:54:42.610756Z",
     "start_time": "2020-02-05T17:54:42.602316Z"
    }
   },
   "source": [
    "#### Use function `perform_bernoulli_trials` with inputs n = 100, p = 0.5"
   ]
  },
  {
   "cell_type": "code",
   "execution_count": 3,
   "metadata": {},
   "outputs": [
    {
     "data": {
      "text/plain": [
       "45"
      ]
     },
     "execution_count": 3,
     "metadata": {},
     "output_type": "execute_result"
    }
   ],
   "source": [
    "perform_bernouli_trial(100,0.5)"
   ]
  },
  {
   "cell_type": "code",
   "execution_count": null,
   "metadata": {},
   "outputs": [],
   "source": []
  },
  {
   "cell_type": "markdown",
   "metadata": {
    "ExecuteTime": {
     "end_time": "2020-02-05T17:54:43.020097Z",
     "start_time": "2020-02-05T17:54:42.962800Z"
    }
   },
   "source": [
    "#### Call function _perform_bernoulli_trials_ 1000-times with same parameters as before and store the result in `successes_list`"
   ]
  },
  {
   "cell_type": "code",
   "execution_count": 4,
   "metadata": {},
   "outputs": [
    {
     "name": "stdout",
     "output_type": "stream",
     "text": [
      "[59, 51, 45, 51, 57, 39, 46, 46, 46, 48, 46, 58, 42, 53, 45, 53, 48, 48, 55, 47, 46, 47, 50, 51, 47, 43, 50, 52, 42, 50, 46, 53, 46, 42, 56, 52, 50, 45, 48, 43, 57, 42, 50, 50, 54, 50, 56, 42, 49, 50, 50, 57, 54, 37, 55, 52, 47, 59, 49, 46, 51, 53, 50, 48, 46, 50, 47, 54, 50, 44, 49, 42, 52, 48, 57, 50, 42, 42, 47, 47, 45, 43, 59, 56, 52, 50, 45, 43, 51, 46, 46, 56, 50, 54, 56, 47, 47, 44, 54, 45, 55, 55, 47, 38, 43, 43, 46, 60, 42, 53, 52, 43, 58, 55, 56, 45, 47, 52, 46, 55, 49, 54, 47, 46, 51, 51, 45, 59, 43, 59, 53, 54, 52, 58, 51, 49, 52, 48, 49, 52, 51, 45, 50, 50, 46, 55, 58, 56, 51, 45, 49, 51, 46, 53, 51, 51, 56, 48, 57, 49, 50, 51, 43, 58, 56, 45, 34, 42, 53, 49, 50, 48, 59, 56, 52, 44, 52, 54, 47, 41, 45, 50, 43, 46, 49, 57, 42, 47, 59, 48, 54, 47, 49, 45, 43, 42, 51, 50, 52, 41, 48, 48, 56, 52, 49, 48, 50, 56, 65, 43, 42, 45, 56, 54, 41, 51, 47, 43, 51, 53, 47, 58, 53, 47, 43, 43, 47, 48, 58, 46, 47, 56, 44, 48, 47, 46, 42, 47, 47, 50, 48, 51, 48, 54, 37, 54, 49, 50, 43, 49, 43, 52, 52, 49, 38, 51, 52, 55, 48, 54, 48, 54, 52, 45, 54, 53, 47, 50, 47, 46, 49, 47, 43, 44, 47, 51, 45, 45, 45, 58, 51, 43, 51, 60, 58, 51, 50, 52, 45, 38, 54, 57, 48, 46, 48, 58, 58, 46, 41, 55, 48, 58, 54, 52, 40, 53, 58, 48, 56, 46, 46, 50, 41, 59, 47, 55, 47, 45, 49, 48, 49, 49, 49, 49, 47, 54, 60, 52, 46, 45, 52, 50, 57, 41, 55, 49, 50, 50, 45, 49, 45, 40, 52, 43, 48, 60, 45, 48, 52, 53, 43, 50, 53, 41, 50, 54, 51, 50, 57, 45, 44, 48, 52, 51, 51, 53, 60, 49, 45, 47, 56, 44, 54, 52, 44, 42, 38, 48, 53, 45, 49, 52, 53, 47, 47, 46, 53, 49, 52, 51, 47, 53, 52, 54, 51, 54, 41, 60, 47, 44, 43, 49, 53, 53, 51, 53, 45, 46, 51, 46, 51, 52, 52, 51, 44, 42, 54, 48, 52, 60, 54, 53, 39, 54, 47, 56, 51, 52, 49, 34, 52, 56, 48, 51, 57, 55, 52, 43, 53, 51, 50, 51, 60, 55, 51, 44, 51, 49, 56, 52, 46, 57, 47, 48, 46, 38, 51, 46, 52, 45, 51, 47, 52, 46, 49, 47, 59, 43, 56, 52, 48, 52, 53, 50, 46, 53, 49, 52, 50, 54, 43, 49, 45, 47, 45, 46, 51, 47, 42, 54, 50, 52, 50, 50, 50, 48, 48, 58, 46, 52, 49, 47, 47, 43, 45, 47, 53, 54, 51, 50, 44, 56, 61, 35, 54, 53, 38, 53, 49, 46, 43, 53, 44, 55, 49, 47, 52, 39, 46, 52, 46, 46, 42, 50, 53, 44, 44, 44, 53, 57, 49, 43, 43, 47, 49, 56, 46, 53, 42, 53, 46, 43, 52, 43, 53, 45, 44, 48, 51, 50, 54, 54, 50, 51, 54, 46, 55, 38, 45, 49, 53, 47, 47, 56, 57, 50, 59, 48, 50, 46, 57, 49, 60, 53, 50, 61, 45, 49, 49, 49, 43, 54, 49, 49, 46, 44, 47, 56, 54, 53, 63, 53, 44, 41, 55, 54, 51, 47, 48, 50, 47, 40, 49, 44, 49, 42, 57, 58, 58, 50, 47, 48, 51, 47, 55, 47, 44, 38, 41, 48, 56, 44, 45, 45, 47, 62, 52, 50, 50, 53, 48, 55, 49, 42, 56, 52, 47, 47, 54, 55, 61, 52, 57, 48, 56, 50, 51, 43, 48, 52, 58, 46, 51, 49, 47, 42, 48, 54, 56, 46, 49, 47, 55, 48, 46, 39, 52, 45, 38, 43, 53, 49, 44, 57, 47, 55, 53, 43, 46, 42, 48, 52, 51, 51, 53, 56, 48, 52, 52, 53, 44, 51, 53, 48, 50, 48, 53, 46, 50, 47, 55, 47, 43, 48, 57, 54, 49, 53, 50, 49, 56, 50, 51, 51, 46, 60, 53, 53, 42, 54, 56, 48, 57, 49, 55, 54, 54, 48, 50, 46, 49, 56, 54, 53, 58, 46, 44, 53, 60, 58, 53, 49, 54, 51, 52, 40, 52, 48, 46, 50, 50, 50, 54, 53, 47, 55, 47, 48, 52, 49, 51, 52, 58, 34, 51, 52, 56, 54, 50, 59, 51, 57, 52, 56, 55, 57, 56, 53, 48, 46, 42, 54, 54, 53, 51, 50, 44, 43, 46, 46, 51, 48, 60, 55, 53, 51, 48, 55, 52, 53, 52, 42, 43, 50, 48, 42, 60, 57, 58, 43, 55, 57, 55, 46, 50, 60, 41, 40, 60, 45, 54, 51, 51, 54, 47, 55, 45, 42, 61, 45, 51, 54, 56, 51, 51, 62, 47, 50, 51, 49, 51, 48, 55, 48, 43, 57, 54, 48, 56, 50, 45, 45, 46, 51, 45, 50, 46, 46, 48, 45, 51, 53, 53, 57, 47, 54, 53, 47, 50, 41, 46, 53, 49, 58, 54, 51, 45, 44, 51, 47, 51, 49, 46, 46, 58, 50, 52, 51, 55, 61, 49, 54, 46, 46, 41, 56, 51, 50, 55, 57, 51, 43, 46, 41, 59, 47, 54, 55, 47, 53, 53, 43, 45, 48, 47, 46, 51, 49, 56, 50, 44, 42, 47, 46, 48, 49, 56, 55, 49, 52, 50, 49, 43, 41, 49, 51, 48, 51, 56, 54, 54, 44, 53, 58, 56, 57, 62, 50, 50, 51, 52, 46, 47, 45, 50, 49, 54, 48, 49, 51, 49, 52, 56, 57, 57, 44, 54, 52, 56, 53, 49, 44, 48, 49, 56, 43, 47, 43, 40, 51, 40, 50, 48, 41, 45, 44, 51, 52, 54, 49]\n"
     ]
    }
   ],
   "source": [
    "successes_list = [perform_bernouli_trial(100,0.5) for successes in range(1000)]\n",
    "print(successes_list)"
   ]
  },
  {
   "cell_type": "code",
   "execution_count": null,
   "metadata": {},
   "outputs": [],
   "source": []
  },
  {
   "cell_type": "markdown",
   "metadata": {
    "ExecuteTime": {
     "end_time": "2020-02-05T17:54:43.296477Z",
     "start_time": "2020-02-05T17:54:43.289959Z"
    }
   },
   "source": [
    "#### Count occurence of each number from `successes_list` using Counter and store the result in `count_occurence`\n",
    "\n",
    "You can find for more info about Counter [**here**](https://docs.python.org/2/library/collections.html#collections.Counter)."
   ]
  },
  {
   "cell_type": "code",
   "execution_count": 5,
   "metadata": {},
   "outputs": [
    {
     "name": "stdout",
     "output_type": "stream",
     "text": [
      "Counter({51: 82, 50: 76, 47: 75, 49: 71, 46: 69, 52: 68, 48: 67, 53: 65, 54: 60, 45: 49, 43: 45, 56: 45, 55: 35, 44: 32, 57: 29, 42: 29, 58: 24, 41: 16, 60: 15, 59: 12, 38: 9, 40: 7, 61: 5, 39: 4, 34: 3, 62: 3, 37: 2, 65: 1, 35: 1, 63: 1})\n"
     ]
    }
   ],
   "source": [
    "count_occurence = Counter(successes_list)\n",
    "print(count_occurence)"
   ]
  },
  {
   "cell_type": "code",
   "execution_count": null,
   "metadata": {},
   "outputs": [],
   "source": []
  },
  {
   "cell_type": "markdown",
   "metadata": {
    "ExecuteTime": {
     "end_time": "2020-02-05T17:54:43.571225Z",
     "start_time": "2020-02-05T17:54:43.568147Z"
    }
   },
   "source": [
    "#### Count the probability for each number from `count_occurence` and store the result in `probas`\n"
   ]
  },
  {
   "cell_type": "code",
   "execution_count": 6,
   "metadata": {},
   "outputs": [
    {
     "name": "stdout",
     "output_type": "stream",
     "text": [
      "[0.012, 0.082, 0.049, 0.029, 0.004, 0.069, 0.067, 0.024, 0.029, 0.065, 0.035, 0.075, 0.076, 0.045, 0.068, 0.045, 0.06, 0.071, 0.002, 0.032, 0.009, 0.015, 0.003, 0.016, 0.001, 0.007, 0.005, 0.001, 0.001, 0.003]\n"
     ]
    }
   ],
   "source": [
    "probas = [count/len(successes_list) for count in count_occurence.values()]\n",
    "print(probas)"
   ]
  },
  {
   "cell_type": "code",
   "execution_count": null,
   "metadata": {},
   "outputs": [],
   "source": []
  },
  {
   "cell_type": "markdown",
   "metadata": {},
   "source": [
    "Below you have some information about how to do plots in Python. We will be covering all of this during the bootcamp. But you can find these basics here so we can visualize the distributions."
   ]
  },
  {
   "cell_type": "code",
   "execution_count": 7,
   "metadata": {
    "ExecuteTime": {
     "end_time": "2020-02-05T17:54:44.056628Z",
     "start_time": "2020-02-05T17:54:43.850076Z"
    }
   },
   "outputs": [
    {
     "data": {
      "image/png": "[encoded data removed]",
      "text/plain": [
       "<Figure size 432x288 with 1 Axes>"
      ]
     },
     "metadata": {},
     "output_type": "display_data"
    }
   ],
   "source": [
    "# plot distribution (PMF) of 'succes_list'\n",
    "plt.scatter(x=count_occurence.keys(), y=probas)\n",
    "plt.xlabel('number of succeess out of 100')\n",
    "plt.ylabel('probability')\n",
    "# Show the plot\n",
    "plt.show()"
   ]
  },
  {
   "cell_type": "markdown",
   "metadata": {
    "ExecuteTime": {
     "end_time": "2020-02-05T17:54:44.112264Z",
     "start_time": "2020-02-05T17:54:44.096570Z"
    }
   },
   "source": [
    "#### Generate 100000 numbers from uniform distribution with parameters a = 1, b = 6\n"
   ]
  },
  {
   "cell_type": "code",
   "execution_count": 8,
   "metadata": {},
   "outputs": [],
   "source": [
    "uniform_data = np.random.uniform(1, 6, size=100000)"
   ]
  },
  {
   "cell_type": "code",
   "execution_count": null,
   "metadata": {},
   "outputs": [],
   "source": []
  },
  {
   "cell_type": "code",
   "execution_count": null,
   "metadata": {
    "ExecuteTime": {
     "end_time": "2020-02-05T17:54:44.515039Z",
     "start_time": "2020-02-05T17:54:44.330746Z"
    },
    "collapsed": true,
    "jupyter": {
     "outputs_hidden": true
    }
   },
   "outputs": [],
   "source": []
  },
  {
   "cell_type": "markdown",
   "metadata": {
    "ExecuteTime": {
     "end_time": "2020-02-05T17:54:44.583762Z",
     "start_time": "2020-02-05T17:54:44.555162Z"
    }
   },
   "source": [
    "#### Check the mean of uniform data (using NumPy)"
   ]
  },
  {
   "cell_type": "code",
   "execution_count": 9,
   "metadata": {},
   "outputs": [
    {
     "data": {
      "text/plain": [
       "3.49287143537454"
      ]
     },
     "execution_count": 9,
     "metadata": {},
     "output_type": "execute_result"
    }
   ],
   "source": [
    "np.mean(uniform_data)"
   ]
  },
  {
   "cell_type": "code",
   "execution_count": null,
   "metadata": {},
   "outputs": [],
   "source": []
  },
  {
   "cell_type": "markdown",
   "metadata": {
    "ExecuteTime": {
     "end_time": "2020-02-05T17:54:44.758510Z",
     "start_time": "2020-02-05T17:54:44.752087Z"
    }
   },
   "source": [
    "#### Generate 100000 numbers from exponential distribution with parameter beta = 0.5"
   ]
  },
  {
   "cell_type": "code",
   "execution_count": 10,
   "metadata": {},
   "outputs": [],
   "source": [
    "exponential_data = np.random.exponential(0.5, size=100000)"
   ]
  },
  {
   "cell_type": "code",
   "execution_count": null,
   "metadata": {},
   "outputs": [],
   "source": []
  },
  {
   "cell_type": "markdown",
   "metadata": {
    "ExecuteTime": {
     "end_time": "2020-02-05T17:54:45.134091Z",
     "start_time": "2020-02-05T17:54:44.956351Z"
    }
   },
   "source": [
    "#### Plot histogram of exponential distribution with params `density=True`, `bins=100`\n"
   ]
  },
  {
   "cell_type": "code",
   "execution_count": 11,
   "metadata": {},
   "outputs": [
    {
     "data": {
      "image/png": "[encoded data removed]",
      "text/plain": [
       "<Figure size 432x288 with 1 Axes>"
      ]
     },
     "metadata": {},
     "output_type": "display_data"
    }
   ],
   "source": [
    "plt.hist(exponential_data, density=True, bins=100)\n",
    "plt.show()"
   ]
  },
  {
   "cell_type": "code",
   "execution_count": null,
   "metadata": {},
   "outputs": [],
   "source": []
  },
  {
   "cell_type": "markdown",
   "metadata": {
    "ExecuteTime": {
     "end_time": "2020-02-05T17:54:45.187080Z",
     "start_time": "2020-02-05T17:54:45.171406Z"
    }
   },
   "source": [
    "#### Check the mean of exponential data"
   ]
  },
  {
   "cell_type": "code",
   "execution_count": 12,
   "metadata": {},
   "outputs": [
    {
     "data": {
      "text/plain": [
       "0.5005656695579666"
      ]
     },
     "execution_count": 12,
     "metadata": {},
     "output_type": "execute_result"
    }
   ],
   "source": [
    "np.mean(exponential_data)"
   ]
  },
  {
   "cell_type": "code",
   "execution_count": null,
   "metadata": {},
   "outputs": [],
   "source": []
  }
 ],
 "metadata": {
  "kernelspec": {
   "display_name": "DataSci",
   "language": "python",
   "name": "datasci"
  },
  "language_info": {
   "codemirror_mode": {
    "name": "ipython",
    "version": 3
   },
   "file_extension": ".py",
   "mimetype": "text/x-python",
   "name": "python",
   "nbconvert_exporter": "python",
   "pygments_lexer": "ipython3",
   "version": "3.9.2"
  },
  "toc": {
   "base_numbering": 1,
   "nav_menu": {},
   "number_sections": true,
   "sideBar": true,
   "skip_h1_title": false,
   "title_cell": "Table of Contents",
   "title_sidebar": "Contents",
   "toc_cell": false,
   "toc_position": {},
   "toc_section_display": true,
   "toc_window_display": false
  },
  "varInspector": {
   "cols": {
    "lenName": 16,
    "lenType": 16,
    "lenVar": 40
   },
   "kernels_config": {
    "python": {
     "delete_cmd_postfix": "",
     "delete_cmd_prefix": "del ",
     "library": "var_list.py",
     "varRefreshCmd": "print(var_dic_list())"
    },
    "r": {
     "delete_cmd_postfix": ") ",
     "delete_cmd_prefix": "rm(",
     "library": "var_list.r",
     "varRefreshCmd": "cat(var_dic_list()) "
    }
   },
   "types_to_exclude": [
    "module",
    "function",
    "builtin_function_or_method",
    "instance",
    "_Feature"
   ],
   "window_display": false
  }
 },
 "nbformat": 4,
 "nbformat_minor": 4
}
