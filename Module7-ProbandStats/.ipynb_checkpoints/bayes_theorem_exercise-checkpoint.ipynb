{
 "cells": [
  {
   "cell_type": "markdown",
   "metadata": {
    "ExecuteTime": {
     "end_time": "2020-02-05T17:56:18.818219Z",
     "start_time": "2020-02-05T17:56:18.810698Z"
    }
   },
   "source": [
    "## Exercise 1\n",
    "In Orange County, 51% of the adults are males. (It doesn't take too much advanced\n",
    "mathematics to deduce that the other 49% are females.) One adult is randomly selected\n",
    "for a survey involving credit card usage.\n",
    "\n",
    "- **(a)** Find the probability that the selected person is a male.\n",
    "\n",
    "- **(b)** It is later learned that the selected survey subject was smoking a cigar. Also, 9.5% of males smoke cigars, whereas 1.7% of females smoke cigars (based on data from the Substance Abuse and Mental Health Services Administration). Use this additional information to find the probability that the cigar−smoking respondent is a male\n",
    "\n",
    "Use following notation:\n",
    "M = male <br>\n",
    "F = female <br>\n",
    "C = cigar smoker<br>\n",
    "NC = not a cigar smoker<br>\n"
   ]
  },
  {
   "cell_type": "code",
   "execution_count": 1,
   "metadata": {},
   "outputs": [],
   "source": [
    "# Probabilites\n",
    "M = 0.51\n",
    "F = 0.49\n",
    "C_M = 0.095\n",
    "C_F = 0.017"
   ]
  },
  {
   "cell_type": "code",
   "execution_count": 2,
   "metadata": {},
   "outputs": [],
   "source": [
    "# a) P(M) = 0.51"
   ]
  },
  {
   "cell_type": "code",
   "execution_count": 3,
   "metadata": {},
   "outputs": [
    {
     "name": "stdout",
     "output_type": "stream",
     "text": [
      "The probability that the cigar smoker is a male is 0.8532934131736527\n"
     ]
    }
   ],
   "source": [
    "# b) P(M|C) = (P(C|M) * P(M)) / P(C)\n",
    "C = (M * C_M) + (F * C_F)\n",
    "prob_M_C = (C_M * M) / C\n",
    "print(f\"The probability that the cigar smoker is a male is {prob_M_C}\")"
   ]
  },
  {
   "cell_type": "markdown",
   "metadata": {
    "ExecuteTime": {
     "end_time": "2020-02-05T17:56:20.532960Z",
     "start_time": "2020-02-05T17:56:20.525450Z"
    }
   },
   "source": [
    "# Exercise 2\n",
    "\n",
    "A diagnostic test has a probability 0.95 of giving a positive result when applied to a person suffering\n",
    "from a certain disease, and a probability 0.10 of giving a (false) positive when applied to a non-sufferer. It is\n",
    "estimated that 0.5 % of the population are sufferers. Suppose that the test is now administered to a person about\n",
    "whom we have no relevant information relating to the disease (apart from the fact that he/she comes from this\n",
    "population). \n",
    "\n",
    "Calculate the following probabilities:\n",
    "- **(a)** that the test result will be positive;\n",
    "- **(b)** that, given a positive result, the person is a sufferer;\n",
    "- **(c)** that, given a negative result, the person is a non-sufferer;\n",
    "- **(d)** that the person will be misclassified.\n",
    "\n",
    "Use following notation:\n",
    "\n",
    "T = test positive <br>\n",
    "NT = test negative<br>\n",
    "S = sufferer<br>\n",
    "NS = non-sufferer<br>\n",
    "M = misclassified<br>\n",
    "\n",
    "Solve it by two approaches:\n",
    "1. Arithmetically\n",
    "2. By simulation"
   ]
  },
  {
   "cell_type": "code",
   "execution_count": 4,
   "metadata": {},
   "outputs": [
    {
     "name": "stdout",
     "output_type": "stream",
     "text": [
      "The probability that the test result will be positive is 0.10425000000000001\n",
      "The probability that a person is a sufferer given that a test result is positive is 0.04556354916067146 \n",
      "The probability that a person is a non-sufferer given that a test result is negative is 0.9997209042701646 \n",
      "The probability that a person will be misclassified is 0.09975\n"
     ]
    }
   ],
   "source": [
    "# Probabilites\n",
    "S = 0.005\n",
    "NS = 0.995\n",
    "T_S = 0.95\n",
    "T_NS = 0.10\n",
    "\n",
    "# a) P(T) = P(T|S)*P(S) + P(T|NS)*P(NS)\n",
    "T = (T_S * S) + (T_NS * NS)\n",
    "print(f\"The probability that the test result will be positive is {T}\")\n",
    "\n",
    "# b) P(S|T) = (P(T|S) * P(S)) / P(T)\n",
    "S_T = (T_S * S) / T\n",
    "print(f\"The probability that a person is a sufferer given that a test result is positive is {S_T} \")\n",
    "\n",
    "# c) P(NS|NT) = (P(NT|NS) * P(NS)) / P(NT)\n",
    "NS_NT = ((1 - T_NS) * NS) / (1 - T)\n",
    "print(f\"The probability that a person is a non-sufferer given that a test result is negative is {NS_NT} \")\n",
    "\n",
    "# d) P(M) = P(NT|S) * P(S) + P(T|NS) * P(NS)\n",
    "M = ((1 - T_S) * S) + (T_NS * NS)\n",
    "print(f\"The probability that a person will be misclassified is {M}\")"
   ]
  },
  {
   "cell_type": "code",
   "execution_count": 5,
   "metadata": {},
   "outputs": [
    {
     "name": "stdout",
     "output_type": "stream",
     "text": [
      "The probability that the test result will be positive is 10.421999999999999%\n",
      "The probability that a person is a sufferer given that a test result is positive is 4.922279792746115%\n",
      "The probability that a person is a non-sufferer given that a test result is negative is 99.970975016187%\n",
      "The probability that a person will be misclassified is 9.934999999999999%\n"
     ]
    }
   ],
   "source": [
    "import numpy as np\n",
    "\n",
    "n_runs = 100000\n",
    "\n",
    "T = 0\n",
    "NT = 0\n",
    "S = 0\n",
    "NS = 0\n",
    "M = 0\n",
    "\n",
    "SandT = 0\n",
    "SandNT = 0\n",
    "NSandT = 0\n",
    "NSandNT = 0\n",
    "\n",
    "for _ in range(n_runs):\n",
    "    # Probability of being a sufferer\n",
    "    if np.random.random() < 0.005:\n",
    "        S += 1\n",
    "        # Probability of testing positive\n",
    "        if np.random.random() < 0.95:\n",
    "            T += 1\n",
    "            SandT +=1\n",
    "        # Probability of testing negative\n",
    "        else:\n",
    "            NT += 1\n",
    "            M += 1\n",
    "            SandNT += 1\n",
    "    \n",
    "    \n",
    "    # Probability of being a non-sufferer\n",
    "    else:\n",
    "        NS += 1\n",
    "        # Probability of testing positive\n",
    "        if np.random.random() < 0.10:\n",
    "            T += 1\n",
    "            M += 1\n",
    "            NSandT += 1\n",
    "        # Probability of testing negative\n",
    "        else:\n",
    "            NT += 1\n",
    "            NSandNT += 1\n",
    "\n",
    "P_T = T / n_runs * 100\n",
    "P_NT = NT / n_runs * 100\n",
    "P_S = S / n_runs * 100\n",
    "P_NS = NS / n_runs * 100\n",
    "P_M = M / n_runs * 100\n",
    "\n",
    "P_SandT = SandT / n_runs * 100\n",
    "P_SandNT = SandNT / n_runs * 100\n",
    "P_NSandT = NSandT / n_runs * 100\n",
    "P_NSandNT = NSandNT / n_runs * 100\n",
    "\n",
    "print(f\"The probability that the test result will be positive is {P_T}%\")\n",
    "print(f\"The probability that a person is a sufferer given that a test result is positive is {P_SandT / P_T * 100}%\")\n",
    "print(f\"The probability that a person is a non-sufferer given that a test result is negative is {P_NSandNT / P_NT * 100}%\")\n",
    "print(f\"The probability that a person will be misclassified is {P_M}%\")"
   ]
  },
  {
   "cell_type": "code",
   "execution_count": null,
   "metadata": {},
   "outputs": [],
   "source": []
  }
 ],
 "metadata": {
  "kernelspec": {
   "display_name": "DataSci",
   "language": "python",
   "name": "datasci"
  },
  "language_info": {
   "codemirror_mode": {
    "name": "ipython",
    "version": 3
   },
   "file_extension": ".py",
   "mimetype": "text/x-python",
   "name": "python",
   "nbconvert_exporter": "python",
   "pygments_lexer": "ipython3",
   "version": "3.9.2"
  },
  "toc": {
   "base_numbering": 1,
   "nav_menu": {},
   "number_sections": true,
   "sideBar": true,
   "skip_h1_title": false,
   "title_cell": "Table of Contents",
   "title_sidebar": "Contents",
   "toc_cell": false,
   "toc_position": {},
   "toc_section_display": true,
   "toc_window_display": false
  },
  "varInspector": {
   "cols": {
    "lenName": 16,
    "lenType": 16,
    "lenVar": 40
   },
   "kernels_config": {
    "python": {
     "delete_cmd_postfix": "",
     "delete_cmd_prefix": "del ",
     "library": "var_list.py",
     "varRefreshCmd": "print(var_dic_list())"
    },
    "r": {
     "delete_cmd_postfix": ") ",
     "delete_cmd_prefix": "rm(",
     "library": "var_list.r",
     "varRefreshCmd": "cat(var_dic_list()) "
    }
   },
   "types_to_exclude": [
    "module",
    "function",
    "builtin_function_or_method",
    "instance",
    "_Feature"
   ],
   "window_display": false
  }
 },
 "nbformat": 4,
 "nbformat_minor": 4
}
