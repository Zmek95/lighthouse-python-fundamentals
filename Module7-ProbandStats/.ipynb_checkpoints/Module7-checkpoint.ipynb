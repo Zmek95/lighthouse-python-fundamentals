{
 "cells": [
  {
   "cell_type": "code",
   "execution_count": 1,
   "id": "b313b5d3",
   "metadata": {},
   "outputs": [],
   "source": [
    "import numpy as np\n",
    "import matplotlib.pyplot as plt\n",
    "from collections import Counter"
   ]
  },
  {
   "cell_type": "code",
   "execution_count": 2,
   "id": "7f705e86",
   "metadata": {},
   "outputs": [],
   "source": [
    "# set the plot style\n",
    "plt.style.use('fivethirtyeight')"
   ]
  },
  {
   "cell_type": "code",
   "execution_count": 3,
   "id": "f17b08b0",
   "metadata": {},
   "outputs": [
    {
     "data": {
      "text/plain": [
       "0.6276980040209071"
      ]
     },
     "execution_count": 3,
     "metadata": {},
     "output_type": "execute_result"
    }
   ],
   "source": [
    "random_num = np.random.random()\n",
    "random_num"
   ]
  },
  {
   "cell_type": "code",
   "execution_count": 4,
   "id": "b1210013",
   "metadata": {},
   "outputs": [
    {
     "data": {
      "text/plain": [
       "array([0.63273476, 0.29276825, 0.30962696, 0.31956963])"
      ]
     },
     "execution_count": 4,
     "metadata": {},
     "output_type": "execute_result"
    }
   ],
   "source": [
    "# generate 4 random numbers from the interval  <0,1)\n",
    "random_num = np.random.random(4)\n",
    "random_num"
   ]
  },
  {
   "cell_type": "code",
   "execution_count": 5,
   "id": "87544615",
   "metadata": {},
   "outputs": [],
   "source": [
    "# this sets the seed to number 42\n",
    "np.random.seed(42)"
   ]
  },
  {
   "cell_type": "markdown",
   "id": "46b4edd2",
   "metadata": {},
   "source": [
    "### Binomial Disribution"
   ]
  },
  {
   "cell_type": "code",
   "execution_count": 6,
   "id": "565c765f",
   "metadata": {},
   "outputs": [],
   "source": [
    "# n = the number of coin tosses\n",
    "# p = the probability of getting heads\n",
    "# size = the number of repeats \n",
    "\n",
    "n = 10\n",
    "p = 0.5\n",
    "size = 1000\n",
    "\n",
    "samples = np.random.binomial(n, p, size)"
   ]
  },
  {
   "cell_type": "code",
   "execution_count": 7,
   "id": "cde9014a",
   "metadata": {},
   "outputs": [],
   "source": [
    "# count the occurrence of each number\n",
    "head_occu_count = Counter(samples) "
   ]
  },
  {
   "cell_type": "code",
   "execution_count": 8,
   "id": "dbe28bdd",
   "metadata": {},
   "outputs": [],
   "source": [
    "# calculate the probabilities as the number of occurences / size\n",
    "head_proba = [val/size for val in head_occu_count.values()]"
   ]
  },
  {
   "cell_type": "code",
   "execution_count": 9,
   "id": "37065a45",
   "metadata": {},
   "outputs": [
    {
     "data": {
      "image/png": "[encoded data removed]",
      "text/plain": [
       "<Figure size 432x288 with 1 Axes>"
      ]
     },
     "metadata": {},
     "output_type": "display_data"
    }
   ],
   "source": [
    "plt.scatter(x=head_occu_count.keys(), y=head_proba)\n",
    "plt.xlabel('number of heads out of 10 tosses')\n",
    "plt.ylabel('probability')\n",
    "\n",
    "# show the plot\n",
    "plt.show()"
   ]
  },
  {
   "cell_type": "markdown",
   "id": "b1816ae8",
   "metadata": {},
   "source": [
    "### Normal Distribution"
   ]
  },
  {
   "cell_type": "code",
   "execution_count": null,
   "id": "49080c55",
   "metadata": {},
   "outputs": [],
   "source": []
  }
 ],
 "metadata": {
  "kernelspec": {
   "display_name": "DataSci",
   "language": "python",
   "name": "datasci"
  },
  "language_info": {
   "codemirror_mode": {
    "name": "ipython",
    "version": 3
   },
   "file_extension": ".py",
   "mimetype": "text/x-python",
   "name": "python",
   "nbconvert_exporter": "python",
   "pygments_lexer": "ipython3",
   "version": "3.9.2"
  }
 },
 "nbformat": 4,
 "nbformat_minor": 5
}
