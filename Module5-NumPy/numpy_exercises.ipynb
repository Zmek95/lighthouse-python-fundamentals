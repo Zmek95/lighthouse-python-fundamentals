{
 "cells": [
  {
   "cell_type": "markdown",
   "metadata": {},
   "source": [
    "# NumPy exercises\n",
    "\n",
    "We are going to practice NumPy skills and basic syntax.\n",
    "\n",
    "We put here also some examples that were not in the tutorial on purpose. Try to use google and offial NumPy documentation to solve these exercises."
   ]
  },
  {
   "cell_type": "markdown",
   "metadata": {},
   "source": [
    "#### 1. Import the numpy package under the name `np` (★☆☆)"
   ]
  },
  {
   "cell_type": "code",
   "execution_count": 1,
   "metadata": {
    "tags": []
   },
   "outputs": [],
   "source": [
    "import numpy as np"
   ]
  },
  {
   "cell_type": "markdown",
   "metadata": {},
   "source": [
    "#### 3. Create a null vector of size 10 (★☆☆)"
   ]
  },
  {
   "cell_type": "code",
   "execution_count": 2,
   "metadata": {
    "collapsed": false,
    "jupyter": {
     "outputs_hidden": false
    }
   },
   "outputs": [
    {
     "name": "stdout",
     "output_type": "stream",
     "text": [
      "[0. 0. 0. 0. 0. 0. 0. 0. 0. 0.] 10\n"
     ]
    }
   ],
   "source": [
    "arr = np.zeros(10)\n",
    "print(arr, arr.size)"
   ]
  },
  {
   "cell_type": "markdown",
   "metadata": {},
   "source": [
    "#### 6.  Create a null vector of size 10 but the fifth value which is 1 (★☆☆)"
   ]
  },
  {
   "cell_type": "code",
   "execution_count": 3,
   "metadata": {
    "collapsed": false,
    "jupyter": {
     "outputs_hidden": false
    }
   },
   "outputs": [
    {
     "name": "stdout",
     "output_type": "stream",
     "text": [
      "[0. 0. 0. 0. 1. 0. 0. 0. 0. 0.]\n"
     ]
    }
   ],
   "source": [
    "arr = np.zeros(10)\n",
    "arr[4] = 1\n",
    "print(arr)"
   ]
  },
  {
   "cell_type": "markdown",
   "metadata": {},
   "source": [
    "#### 7.  Create a vector with values ranging from 10 to 49 (★☆☆)"
   ]
  },
  {
   "cell_type": "code",
   "execution_count": 4,
   "metadata": {
    "collapsed": false,
    "jupyter": {
     "outputs_hidden": false
    }
   },
   "outputs": [
    {
     "name": "stdout",
     "output_type": "stream",
     "text": [
      "[45 15 39 43 44 11 32 22 44 18]\n"
     ]
    }
   ],
   "source": [
    "arr = np.random.randint(10, 50, size=10)\n",
    "print(arr)"
   ]
  },
  {
   "cell_type": "markdown",
   "metadata": {},
   "source": [
    "#### 8.  Reverse a vector (first element becomes last) (★☆☆)"
   ]
  },
  {
   "cell_type": "code",
   "execution_count": 5,
   "metadata": {
    "collapsed": false,
    "jupyter": {
     "outputs_hidden": false
    }
   },
   "outputs": [
    {
     "name": "stdout",
     "output_type": "stream",
     "text": [
      "[18 44 22 32 11 44 43 39 15 45]\n"
     ]
    }
   ],
   "source": [
    "print(arr[::-1])"
   ]
  },
  {
   "cell_type": "markdown",
   "metadata": {},
   "source": [
    "#### 9.  Create a 3x3 matrix with values ranging from 0 to 8 (★☆☆)"
   ]
  },
  {
   "cell_type": "code",
   "execution_count": 6,
   "metadata": {
    "collapsed": false,
    "jupyter": {
     "outputs_hidden": false
    }
   },
   "outputs": [
    {
     "name": "stdout",
     "output_type": "stream",
     "text": [
      "[[0 7 2]\n",
      " [4 5 0]\n",
      " [0 3 4]] (3, 3)\n"
     ]
    }
   ],
   "source": [
    "arr = np.random.randint(9, size=(3, 3))\n",
    "print(arr, arr.shape)"
   ]
  },
  {
   "cell_type": "markdown",
   "metadata": {},
   "source": [
    "#### 10. Find indices of non-zero elements from \\[1,2,0,0,4,0\\] (★☆☆)"
   ]
  },
  {
   "cell_type": "code",
   "execution_count": 7,
   "metadata": {
    "collapsed": false,
    "jupyter": {
     "outputs_hidden": false
    }
   },
   "outputs": [
    {
     "name": "stdout",
     "output_type": "stream",
     "text": [
      "[0 1 4]\n"
     ]
    }
   ],
   "source": [
    "arr = np.array([1,2,0,0,4,0])\n",
    "print(arr.nonzero()[0])"
   ]
  },
  {
   "cell_type": "markdown",
   "metadata": {},
   "source": [
    "#### 12. Create a 3x3x3 array with random values (★☆☆)"
   ]
  },
  {
   "cell_type": "code",
   "execution_count": 8,
   "metadata": {
    "tags": []
   },
   "outputs": [
    {
     "name": "stdout",
     "output_type": "stream",
     "text": [
      "[[[74 16 22]\n",
      "  [70 52 87]\n",
      "  [60 50  0]]\n",
      "\n",
      " [[23 42 50]\n",
      "  [24 58 66]\n",
      "  [ 9 47 93]]\n",
      "\n",
      " [[12 83 39]\n",
      "  [81  9 46]\n",
      "  [ 4  0 58]]] (3, 3, 3)\n"
     ]
    }
   ],
   "source": [
    "arr = np.random.randint(101, size=(3, 3, 3))\n",
    "print(arr, arr.shape)"
   ]
  },
  {
   "cell_type": "markdown",
   "metadata": {},
   "source": [
    "#### 13. Create a 10x10 array with random values and find the minimum and maximum values (★☆☆)"
   ]
  },
  {
   "cell_type": "code",
   "execution_count": 9,
   "metadata": {
    "collapsed": false,
    "jupyter": {
     "outputs_hidden": false
    }
   },
   "outputs": [
    {
     "name": "stdout",
     "output_type": "stream",
     "text": [
      "[[ 59  43  80  88   7  43  39  52  97  47]\n",
      " [ 90  16  52  63  30  66  72  38  76  97]\n",
      " [ 14  52 100  29  51  86  49  33  56  69]\n",
      " [ 34   5  30  58   0  82  71  18  95  53]\n",
      " [  4  13  10  85  49  52  77  38  50  82]\n",
      " [ 12  90  75  25  87  40   8   2  97   5]\n",
      " [ 15  54  91  42  82  88  25  47  64   3]\n",
      " [  9  36  52   7  42  83  38  78   5  13]\n",
      " [ 46  22  62   7  79  33  92   4  89  41]\n",
      " [ 10  25  89  96  52  98  79  96  74   9]] (10, 10)\n",
      "min = 0, max = 100\n"
     ]
    }
   ],
   "source": [
    "arr = np.random.randint(101, size=(10, 10))\n",
    "print(arr, arr.shape)\n",
    "print(f\"min = {arr.min()}, max = {arr.max()}\")"
   ]
  },
  {
   "cell_type": "markdown",
   "metadata": {},
   "source": [
    "#### 14. Create a random vector of size 30 and find the mean value (★☆☆)"
   ]
  },
  {
   "cell_type": "code",
   "execution_count": 10,
   "metadata": {
    "collapsed": false,
    "jupyter": {
     "outputs_hidden": false
    }
   },
   "outputs": [
    {
     "name": "stdout",
     "output_type": "stream",
     "text": [
      "[  7  99  50  76  36  39 100  70  86  42  83  61  10  30  53  62  53  28\n",
      "   0  88  38   0  63  59  18  27  26  10   0  49] 30\n",
      "mean = 45.43333333333333\n"
     ]
    }
   ],
   "source": [
    "arr = np.random.randint(101, size= 30)\n",
    "print(arr, arr.size)\n",
    "print(f\"mean = {arr.mean()}\")"
   ]
  },
  {
   "cell_type": "markdown",
   "metadata": {},
   "source": [
    "#### 15. Create a 2d array with 1 on the border and 0 inside (★☆☆)"
   ]
  },
  {
   "cell_type": "code",
   "execution_count": 11,
   "metadata": {
    "collapsed": false,
    "jupyter": {
     "outputs_hidden": false
    }
   },
   "outputs": [
    {
     "name": "stdout",
     "output_type": "stream",
     "text": [
      "[[1. 1. 1. 1.]\n",
      " [1. 0. 0. 1.]\n",
      " [1. 0. 0. 1.]\n",
      " [1. 1. 1. 1.]]\n"
     ]
    }
   ],
   "source": [
    "arr = np.ones((4,4))\n",
    "arr[1:3, 1:3] = np.zeros((2,2))\n",
    "print(arr)"
   ]
  },
  {
   "cell_type": "markdown",
   "metadata": {},
   "source": [
    "#### 16. How to add a border (filled with 0's) around an existing array? (★☆☆)"
   ]
  },
  {
   "cell_type": "code",
   "execution_count": 12,
   "metadata": {
    "collapsed": false,
    "jupyter": {
     "outputs_hidden": false
    }
   },
   "outputs": [
    {
     "name": "stdout",
     "output_type": "stream",
     "text": [
      "[[  0   0   0   0   0   0]\n",
      " [  0  46   2  20  22   0]\n",
      " [  0  97  78  94  79   0]\n",
      " [  0  39  13  90 100   0]\n",
      " [  0  10  29  76  98   0]\n",
      " [  0   0   0   0   0   0]]\n"
     ]
    }
   ],
   "source": [
    "arr = np.random.randint(101, size = (4,4))\n",
    "arr = np.pad(arr, pad_width = 1, mode = 'constant', constant_values = 0)\n",
    "print(arr)"
   ]
  },
  {
   "cell_type": "markdown",
   "metadata": {},
   "source": [
    "#### 17. What is the result of the following expression? (★☆☆)"
   ]
  },
  {
   "cell_type": "markdown",
   "metadata": {},
   "source": [
    "```python\n",
    "0 * np.nan\n",
    "np.nan == np.nan\n",
    "np.inf > np.nan\n",
    "np.nan - np.nan\n",
    "np.nan in set([np.nan])\n",
    "0.3 == 3 * 0.1\n",
    "```"
   ]
  },
  {
   "cell_type": "code",
   "execution_count": 13,
   "metadata": {
    "collapsed": false,
    "jupyter": {
     "outputs_hidden": false
    }
   },
   "outputs": [],
   "source": [
    "# 0 * np.nan  # nan\n",
    "# np.nan == np.nan  # False\n",
    "# np.inf > np.nan  # False\n",
    "# np.nan - np.nan  # nan\n",
    "# np.nan in set([np.nan])  # True \n",
    "# 0.3 == 3 * 0.1  # False"
   ]
  },
  {
   "cell_type": "markdown",
   "metadata": {},
   "source": [
    "#### 18. Create a 5x5 matrix with values 1,2,3,4 just below the diagonal (★☆☆)"
   ]
  },
  {
   "cell_type": "code",
   "execution_count": 14,
   "metadata": {
    "collapsed": false,
    "jupyter": {
     "outputs_hidden": false
    }
   },
   "outputs": [
    {
     "name": "stdout",
     "output_type": "stream",
     "text": [
      "[[0 0 0 0 0]\n",
      " [3 0 0 0 0]\n",
      " [4 4 0 0 0]\n",
      " [4 1 1 0 0]\n",
      " [3 3 3 3 0]]\n"
     ]
    }
   ],
   "source": [
    "arr = np.random.randint(1, 5, size = (5,5))\n",
    "arr = np.tril(arr, -1)\n",
    "print(arr)"
   ]
  },
  {
   "cell_type": "markdown",
   "metadata": {},
   "source": [
    "#### 20. Consider a (6,7,8) shape array, what is the index (x,y,z) of the 100th element?"
   ]
  },
  {
   "cell_type": "code",
   "execution_count": 15,
   "metadata": {
    "collapsed": false,
    "jupyter": {
     "outputs_hidden": false
    }
   },
   "outputs": [
    {
     "data": {
      "text/plain": [
       "(1, 5, 4)"
      ]
     },
     "execution_count": 15,
     "metadata": {},
     "output_type": "execute_result"
    }
   ],
   "source": [
    "np.unravel_index(100, (6,7,8))"
   ]
  },
  {
   "cell_type": "markdown",
   "metadata": {},
   "source": [
    "#### 22. Normalize a 5x5 random matrix (★☆☆)"
   ]
  },
  {
   "cell_type": "code",
   "execution_count": 16,
   "metadata": {
    "collapsed": false,
    "jupyter": {
     "outputs_hidden": false
    }
   },
   "outputs": [
    {
     "name": "stdout",
     "output_type": "stream",
     "text": [
      "279.3313444638822\n"
     ]
    }
   ],
   "source": [
    "arr = np.random.randint(101, size = (5,5))\n",
    "arr = np.linalg.norm(arr)\n",
    "print(arr)"
   ]
  },
  {
   "cell_type": "code",
   "execution_count": 17,
   "metadata": {},
   "outputs": [
    {
     "name": "stdout",
     "output_type": "stream",
     "text": [
      "[[57 45 38 27 87]\n",
      " [10 39 98 48 39]\n",
      " [ 4 19 34 96 53]\n",
      " [81 90  6 80 34]\n",
      " [ 8 65 46 18 94]] \n",
      "\n",
      "[[0.22440945 0.17716535 0.1496063  0.10629921 0.34251969]\n",
      " [0.04273504 0.16666667 0.41880342 0.20512821 0.16666667]\n",
      " [0.01941748 0.09223301 0.16504854 0.46601942 0.25728155]\n",
      " [0.27835052 0.30927835 0.02061856 0.27491409 0.11683849]\n",
      " [0.03463203 0.28138528 0.1991342  0.07792208 0.40692641]]\n"
     ]
    }
   ],
   "source": [
    "arr = np.random.randint(101, size = (5,5))\n",
    "print(arr,\"\\n\")\n",
    "row_sums = arr.sum(axis=1, keepdims=True)\n",
    "arr = arr / row_sums[:,:]\n",
    "print(arr)"
   ]
  },
  {
   "cell_type": "markdown",
   "metadata": {},
   "source": [
    "#### 25. Given a 1D array, negate all elements which are between 3 and 8, in place. (★☆☆)"
   ]
  },
  {
   "cell_type": "code",
   "execution_count": 18,
   "metadata": {
    "collapsed": false,
    "jupyter": {
     "outputs_hidden": false
    }
   },
   "outputs": [
    {
     "name": "stdout",
     "output_type": "stream",
     "text": [
      "[0 1 2 3 4 5 6 7 8 9]\n",
      "[0 1 2 3 0 0 0 0 8 9]\n",
      "[0 1 2 3 8 9]\n"
     ]
    }
   ],
   "source": [
    "arr = np.arange(10)\n",
    "print(arr)\n",
    "arr[4:8] = np.zeros(4) \n",
    "print(arr)\n",
    "arr = np.delete(arr, np.s_[4:8])\n",
    "print(arr)"
   ]
  },
  {
   "cell_type": "markdown",
   "metadata": {},
   "source": [
    "#### 29. How to round away from zero a float array ? (★☆☆)"
   ]
  },
  {
   "cell_type": "code",
   "execution_count": 19,
   "metadata": {
    "collapsed": false,
    "jupyter": {
     "outputs_hidden": false
    }
   },
   "outputs": [
    {
     "name": "stdout",
     "output_type": "stream",
     "text": [
      "[2. 3. 4. 5. 6.]\n"
     ]
    }
   ],
   "source": [
    "arr = np.array([1.1,2.7,3.4,4.5,5.3], dtype='float')\n",
    "arr = np.ceil(arr)\n",
    "print(arr)"
   ]
  },
  {
   "cell_type": "markdown",
   "metadata": {},
   "source": [
    "#### 30. How to find common values between two arrays? (★☆☆)"
   ]
  },
  {
   "cell_type": "code",
   "execution_count": 20,
   "metadata": {
    "collapsed": false,
    "jupyter": {
     "outputs_hidden": false
    }
   },
   "outputs": [
    {
     "name": "stdout",
     "output_type": "stream",
     "text": [
      "[2 6]\n"
     ]
    }
   ],
   "source": [
    "arr1 = np.array([2,6,3,8,5])\n",
    "arr2 = np.array([1,4,6,7,2])\n",
    "\n",
    "print(np.intersect1d(arr1,arr2))"
   ]
  },
  {
   "cell_type": "markdown",
   "metadata": {},
   "source": [
    "#### 32. Is the following expressions true? (★☆☆)"
   ]
  },
  {
   "cell_type": "markdown",
   "metadata": {},
   "source": [
    "```python\n",
    "np.sqrt(-1) == np.emath.sqrt(-1)\n",
    "```"
   ]
  },
  {
   "cell_type": "code",
   "execution_count": 21,
   "metadata": {
    "collapsed": false,
    "jupyter": {
     "outputs_hidden": false
    }
   },
   "outputs": [],
   "source": [
    "# False, np.sqrt(-1) will return nan"
   ]
  },
  {
   "cell_type": "markdown",
   "metadata": {},
   "source": [
    "#### 38. Consider a generator function that generates 10 integers and use it to build an array (★☆☆)"
   ]
  },
  {
   "cell_type": "code",
   "execution_count": 22,
   "metadata": {
    "collapsed": false,
    "jupyter": {
     "outputs_hidden": false
    }
   },
   "outputs": [
    {
     "name": "stdout",
     "output_type": "stream",
     "text": [
      "[ 0  1  4  9 16 25 36 49 64 81]\n"
     ]
    }
   ],
   "source": [
    "iterable = (x*x for x in range(10))\n",
    "arr = np.fromiter(iterable, dtype= 'int16')\n",
    "print(arr)"
   ]
  },
  {
   "cell_type": "markdown",
   "metadata": {},
   "source": [
    "#### 39. Create a vector of size 10 with values ranging from 0 to 1, both excluded (★★☆)"
   ]
  },
  {
   "cell_type": "code",
   "execution_count": 23,
   "metadata": {
    "collapsed": false,
    "jupyter": {
     "outputs_hidden": false
    }
   },
   "outputs": [
    {
     "name": "stdout",
     "output_type": "stream",
     "text": [
      "[0.09090909 0.18181818 0.27272727 0.36363636 0.45454545 0.54545455\n",
      " 0.63636364 0.72727273 0.81818182 0.90909091]\n"
     ]
    }
   ],
   "source": [
    "arr = np.linspace(0, 1, num=11, endpoint=False)[1:]\n",
    "print(arr)"
   ]
  },
  {
   "cell_type": "markdown",
   "metadata": {},
   "source": [
    "#### 40. Create a random vector of size 10 and sort it (★★☆)"
   ]
  },
  {
   "cell_type": "code",
   "execution_count": 24,
   "metadata": {
    "collapsed": false,
    "jupyter": {
     "outputs_hidden": false
    }
   },
   "outputs": [
    {
     "name": "stdout",
     "output_type": "stream",
     "text": [
      "[70  1 46 40 29 95 79 80 81 64]\n",
      "[ 1 29 40 46 64 70 79 80 81 95]\n"
     ]
    }
   ],
   "source": [
    "arr = np.random.randint(101, size=10)\n",
    "print(arr)\n",
    "arr = np.sort(arr)\n",
    "print(arr)"
   ]
  },
  {
   "cell_type": "markdown",
   "metadata": {},
   "source": [
    "#### 42. Consider two random array A and B, check if they are equal (★★☆)"
   ]
  },
  {
   "cell_type": "code",
   "execution_count": 25,
   "metadata": {
    "collapsed": false,
    "jupyter": {
     "outputs_hidden": false
    }
   },
   "outputs": [
    {
     "name": "stdout",
     "output_type": "stream",
     "text": [
      "[4 5 0 3 5] [0 4 1 4 5]\n",
      "False\n"
     ]
    }
   ],
   "source": [
    "arr1 = np.random.randint(6, size=5)\n",
    "arr2 = np.random.randint(6, size=5)\n",
    "print(arr1, arr2)\n",
    "print(np.array_equal(arr1, arr2))"
   ]
  },
  {
   "cell_type": "markdown",
   "metadata": {},
   "source": [
    "#### 45. Create random vector of size 10 and replace the maximum value by 0 (★★☆)"
   ]
  },
  {
   "cell_type": "code",
   "execution_count": 26,
   "metadata": {
    "collapsed": false,
    "jupyter": {
     "outputs_hidden": false
    }
   },
   "outputs": [
    {
     "name": "stdout",
     "output_type": "stream",
     "text": [
      "[ 9  3  5  5  0  6 10  5  0  5]\n",
      "[9 3 5 5 0 6 0 5 0 5]\n"
     ]
    }
   ],
   "source": [
    "arr = np.random.randint(11, size=10)\n",
    "print(arr)\n",
    "max_index = np.argmax(arr)\n",
    "arr[max_index] = 0\n",
    "print(arr)"
   ]
  },
  {
   "cell_type": "markdown",
   "metadata": {},
   "source": [
    "#### 50. How to find the closest value (to a given scalar) in a vector? (★★☆)"
   ]
  },
  {
   "cell_type": "code",
   "execution_count": 27,
   "metadata": {
    "collapsed": false,
    "jupyter": {
     "outputs_hidden": false
    }
   },
   "outputs": [
    {
     "name": "stdout",
     "output_type": "stream",
     "text": [
      "[25 70 54 11 73 61  8 52 33  2]\n",
      "33\n"
     ]
    }
   ],
   "source": [
    "def find_nearest(array, scalar):\n",
    "    arr = np.asarray(array)  # Convert input into an array\n",
    "    index = (np.abs(arr - scalar)).argmin()  # The smallest absoulte difference represents the closest value\n",
    "    return arr[index]\n",
    "\n",
    "arr = np.random.randint(101, size=10)\n",
    "print(arr)\n",
    "print(find_nearest(arr, 42))"
   ]
  },
  {
   "cell_type": "markdown",
   "metadata": {},
   "source": [
    "#### 53. How to convert a float (32 bits) array into an integer (32 bits) in place?"
   ]
  },
  {
   "cell_type": "code",
   "execution_count": 28,
   "metadata": {
    "collapsed": false,
    "jupyter": {
     "outputs_hidden": false
    }
   },
   "outputs": [
    {
     "name": "stdout",
     "output_type": "stream",
     "text": [
      "[1. 2. 3. 4.] float32\n",
      "[1 2 3 4] int32\n"
     ]
    }
   ],
   "source": [
    "arr = np.array([1,2,3,4], dtype='float32')\n",
    "print(arr, arr.dtype)\n",
    "arr = arr.astype(dtype='int32', copy=False)\n",
    "print(arr, arr.dtype)"
   ]
  },
  {
   "cell_type": "markdown",
   "metadata": {},
   "source": [
    "#### 59. How to sort an array by the nth column? (★★☆)"
   ]
  },
  {
   "cell_type": "code",
   "execution_count": 29,
   "metadata": {
    "collapsed": false,
    "jupyter": {
     "outputs_hidden": false
    }
   },
   "outputs": [
    {
     "name": "stdout",
     "output_type": "stream",
     "text": [
      "[[ 3 10  4]\n",
      " [ 7  4  5]\n",
      " [ 5  7  6]]\n",
      "[[ 3  4  4]\n",
      " [ 5  7  5]\n",
      " [ 7 10  6]]\n"
     ]
    }
   ],
   "source": [
    "arr = np.random.randint(11, size=(3,3))\n",
    "print(arr)\n",
    "ai = np.argsort(arr, axis=0)\n",
    "arr = np.take_along_axis(arr,ai,axis=0)\n",
    "print(arr)"
   ]
  },
  {
   "cell_type": "markdown",
   "metadata": {},
   "source": [
    "#### 60. How to tell if a given 2D array has null columns? (★★☆)"
   ]
  },
  {
   "cell_type": "code",
   "execution_count": 30,
   "metadata": {
    "collapsed": false,
    "jupyter": {
     "outputs_hidden": false
    }
   },
   "outputs": [
    {
     "name": "stdout",
     "output_type": "stream",
     "text": [
      "[[1 0 4]\n",
      " [2 0 5]\n",
      " [3 0 6]]\n",
      "[False  True False]\n"
     ]
    }
   ],
   "source": [
    "arr = np.array([[1,2,3],[0,0,0],[4,5,6]]).transpose()\n",
    "print(arr)\n",
    "arr = ~(np.any(arr,axis=0))\n",
    "print(arr)"
   ]
  },
  {
   "cell_type": "markdown",
   "metadata": {},
   "source": [
    "#### 70. Consider the vector \\[1, 2, 3, 4, 5\\], how to build a new vector with 3 consecutive zeros interleaved between each value? (★★★)"
   ]
  },
  {
   "cell_type": "code",
   "execution_count": 64,
   "metadata": {
    "collapsed": false,
    "jupyter": {
     "outputs_hidden": false
    }
   },
   "outputs": [
    {
     "name": "stdout",
     "output_type": "stream",
     "text": [
      "[1 0 0 0 2 0 0 0 3 0 0 0 4 0 0 0 5]\n"
     ]
    }
   ],
   "source": [
    "arr = np.array([1,2,3,4,5])\n",
    "inter_arr = np.zeros((3 * arr.size), dtype='int64')\n",
    "idx = tuple(range(0,inter_arr.size,3)) \n",
    "inter_arr = np.insert(inter_arr, idx, arr)[np.s_[:-3]]\n",
    "print(inter_arr)"
   ]
  },
  {
   "cell_type": "markdown",
   "metadata": {},
   "source": [
    "#### 72. How to swap two rows of an array? (★★★)"
   ]
  },
  {
   "cell_type": "code",
   "execution_count": 72,
   "metadata": {
    "collapsed": false,
    "jupyter": {
     "outputs_hidden": false
    }
   },
   "outputs": [
    {
     "name": "stdout",
     "output_type": "stream",
     "text": [
      "[[1 2 3]\n",
      " [4 5 6]\n",
      " [7 8 9]] \n",
      "\n",
      "\n",
      "[[7 8 9]\n",
      " [4 5 6]\n",
      " [1 2 3]]\n"
     ]
    }
   ],
   "source": [
    "arr = np.array([[1,2,3],[4,5,6],[7,8,9]])\n",
    "print(arr,\"\\n\\n\")\n",
    "arr[[0,2]] = arr[[2,0]]  # arr[[0,2]] is equivalent to arr[[0,2], :] so a submatrix \n",
    "                         # consisting of rows 0 and 2 are selected.\n",
    "print(arr)"
   ]
  },
  {
   "cell_type": "markdown",
   "metadata": {},
   "source": [
    "#### 77. How to negate a boolean, or to change the sign of a float inplace? (★★★)"
   ]
  },
  {
   "cell_type": "code",
   "execution_count": 76,
   "metadata": {
    "collapsed": false,
    "jupyter": {
     "outputs_hidden": false
    }
   },
   "outputs": [
    {
     "name": "stdout",
     "output_type": "stream",
     "text": [
      "[False False  True False  True]\n",
      "[-5.5  6.6  7.7 -2.1  3.3]\n"
     ]
    }
   ],
   "source": [
    "arr = np.array([True, True, False, True, False])\n",
    "np.logical_not(arr, out=arr)\n",
    "print(arr)\n",
    "\n",
    "arr = np.array([5.5, -6.6, -7.7, 2.1, -3.3])\n",
    "np.negative(arr, out=arr)\n",
    "print(arr)"
   ]
  },
  {
   "cell_type": "markdown",
   "metadata": {},
   "source": [
    "#### 83. How to find the most frequent value in an array?"
   ]
  },
  {
   "cell_type": "code",
   "execution_count": 79,
   "metadata": {
    "collapsed": false,
    "jupyter": {
     "outputs_hidden": false
    }
   },
   "outputs": [
    {
     "name": "stdout",
     "output_type": "stream",
     "text": [
      "[[  9   5  -2   1  -7   9  -6   9  -2   5]\n",
      " [  0   9 -10  -3   5   7   7 -10  -9  -3]\n",
      " [  2   6 -10  -7   0  -9  -4  -3   3  -9]\n",
      " [ -7  -5   7  -7  10  -8   3   2 -10  -1]\n",
      " [-10  -2   5   4   4   0   2 -10   6  -1]\n",
      " [ -5 -10   5  -9   8 -10  -9  -7  -2   0]\n",
      " [  8   5  -2   1   3   0   9   0  -4  -2]\n",
      " [  1  -7   2  -6  -8  -8   0   8  -1  -5]\n",
      " [  7   7  -1  -9   0   2  -4   7   1  -3]\n",
      " [ -5   4  -1  10 -10  -9 -10   4   7  10]]\n",
      "Most frequent value in the array is -10\n"
     ]
    }
   ],
   "source": [
    "arr = np.random.randint(-10, 11, size=(10,10))\n",
    "print(arr)\n",
    "\n",
    "values, counts = np.unique(arr, return_counts=True)\n",
    "most_freq_idx = counts.argmax()\n",
    "print(f\"Most frequent value in the array is {values[most_freq_idx]}\")"
   ]
  },
  {
   "cell_type": "markdown",
   "metadata": {},
   "source": [
    "#### 89. How to get the n largest values of an array (★★★)"
   ]
  },
  {
   "cell_type": "code",
   "execution_count": 87,
   "metadata": {
    "collapsed": false,
    "jupyter": {
     "outputs_hidden": false
    }
   },
   "outputs": [
    {
     "name": "stdout",
     "output_type": "stream",
     "text": [
      "[42 14 33 37 21 42 23 27 34 22  4 35 37 20 16 17  2 16 17 19 41 22 33 37\n",
      " 28 33 33 16 36 27 38 39 11 43  7 11 20 15 45 20  8 14 30 48 21 25 11 38\n",
      " 32 46 36 43 42 23 35 26 42 19 40 40 24 32 32 24 44 50 27 25 30 13 45  7\n",
      " 24 16 17  1 37 32  6 34 23 26 12 34 13  4 31 35 10  2 30 43 15 48 46  6\n",
      "  6 37 46 36]\n",
      "[46 46 48 48 50]\n"
     ]
    }
   ],
   "source": [
    "arr = np.random.randint(0, 51, size=100)\n",
    "print(arr)\n",
    "\n",
    "max_vals = np.sort(arr)[-5:]\n",
    "print(max_vals)\n",
    "\n",
    "# Note: for n largest UNIQUE values use np.unique before sorting."
   ]
  },
  {
   "cell_type": "markdown",
   "metadata": {},
   "source": [
    "#### 96. Given a two dimensional array, how to extract unique rows? (★★★)"
   ]
  },
  {
   "cell_type": "code",
   "execution_count": 88,
   "metadata": {
    "collapsed": false,
    "jupyter": {
     "outputs_hidden": false
    }
   },
   "outputs": [
    {
     "name": "stdout",
     "output_type": "stream",
     "text": [
      "[[1 2 3]\n",
      " [4 5 6]\n",
      " [7 8 9]\n",
      " [1 2 3]\n",
      " [4 5 6]\n",
      " [0 0 0]]\n",
      "[[0 0 0]\n",
      " [1 2 3]\n",
      " [4 5 6]\n",
      " [7 8 9]]\n"
     ]
    }
   ],
   "source": [
    "arr = np.array([[1,2,3],[4,5,6],[7,8,9],[1,2,3],[4,5,6],[0,0,0]])\n",
    "print(arr)\n",
    "print(np.unique(arr, axis=0))"
   ]
  }
 ],
 "metadata": {
  "kernelspec": {
   "display_name": "DataSci",
   "language": "python",
   "name": "datasci"
  },
  "language_info": {
   "codemirror_mode": {
    "name": "ipython",
    "version": 3
   },
   "file_extension": ".py",
   "mimetype": "text/x-python",
   "name": "python",
   "nbconvert_exporter": "python",
   "pygments_lexer": "ipython3",
   "version": "3.9.2"
  }
 },
 "nbformat": 4,
 "nbformat_minor": 4
}
